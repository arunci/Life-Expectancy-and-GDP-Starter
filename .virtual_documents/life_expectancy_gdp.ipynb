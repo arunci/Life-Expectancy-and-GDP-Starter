








import pandas as pd
import matplotlib.pyplot as plt
import seaborn as sns
import numpy as np





df = pd.read_csv("all_data.csv")
df.head()








df.shape








# Mostrar los distintos países.
print(df.Country.unique())





# Mostrar los años
print(df.Year.unique())











df = df.rename(columns={"Life expectancy at birth (years)": "LEABY"})


df.head()





plt.figure(figsize=(8,6))
sns.histplot(df.GDP, kde=True)
plt.xlabel("PIB (en billones de dolares)")








plt.figure(figsize=(8,6))
sns.histplot(df.LEABY, kde=True)
plt.xlabel("PIB (en billones de dolares)")








df_means = df.drop(["Year"], axis=1).groupby("Country").mean().reset_index()
df_means


plt.figure(figsize=(8, 6))
sns.barplot(y="Country", x="GDP", data=df_means)
plt.xlabel("PIB (en billones de dolares)")


plt.figure(figsize=(8, 6))
sns.barplot(y="Country", x="LEABY", data=df_means)
plt.xlabel("Esperanza de Vida al Nacer (años)")


df_means_year = df.drop(["Country"], axis=1).groupby("Year").mean().reset_index()
df_means_year


plt.figure(figsize=(8, 6))
sns.barplot(y="LEABY", x="Year", data=df_means_year, color="navy")
plt.ylim(70, 76)
plt.xticks(rotation=45)
plt.ylabel("Esperanza de Vida al Nacer (años)")
plt.xlabel("Año")


Vemos un leve y sostenido aumento de la esperanza de vida a lo largo de los años.


plt.figure(figsize=(8, 6))
sns.barplot(y="GDP", x="Year", data=df_means_year, color="navy")
plt.ylim(2e12, 6e12)
plt.xticks(rotation=45)
plt.ylabel("PIB (millones de dolares)")
plt.xlabel("Años")











sns.violinplot(y=df.Country, x=df.LEABY)





df[df["Country"]== "Zimbabwe"].LEABY.max()


df[df["Country"]== "Zimbabwe"].LEABY.min()








sns.violinplot(y=df.Country, x=df.GDP)








graphGDP = sns.FacetGrid(df, col="Country", col_wrap=3,
                      hue = "Country", sharey = False)

graphGDP = (graphGDP.map(sns.lineplot,"Year","GDP")
         .add_legend()
         .set_axis_labels("Año","PIB (billones de dolares)"))

graphGDP;








graphGDP = sns.FacetGrid(df, col="Country", col_wrap=3,
                      hue = "Country", sharey = False)

graphGDP = (graphGDP.map(sns.lineplot,"Year","LEABY")
         .add_legend()
         .set_axis_labels("Año","Esperanza de Vida (años)"))

graphGDP;






